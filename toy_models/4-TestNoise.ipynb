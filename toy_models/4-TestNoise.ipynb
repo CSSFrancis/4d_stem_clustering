{
 "cells": [
  {
   "cell_type": "markdown",
   "id": "8f763b6c-38e6-42aa-ab90-8885b7cdfb21",
   "metadata": {},
   "source": [
    "# 4 - Testing Recall vs Noise\n",
    "\n",
    "This notebook creates a bulk of the simulated data for the Toy model section of the paper.\n",
    "\n",
    "Here we test the recall of diffraction vectors vs noise.\n",
    "\n",
    "Carter Francis | csfrancis@wisc.edu | 2024-01-15"
   ]
  },
  {
   "cell_type": "code",
   "execution_count": 1,
   "id": "0d3938d1",
   "metadata": {
    "tags": []
   },
   "outputs": [
    {
     "name": "stderr",
     "output_type": "stream",
     "text": [
      "WARNING:silx.opencl.common:Unable to import pyOpenCl. Please install it from: https://pypi.org/project/pyopencl\n"
     ]
    }
   ],
   "source": [
    "import numpy as np\n",
    "from skimage.draw import disk\n",
    "import matplotlib.pyplot as plt\n",
    "from dask_image.ndfilters import gaussian_filter\n",
    "from skimage.morphology import disk as d2\n",
    "\n",
    "from orix.crystal_map import Phase\n",
    "from orix.quaternion import Rotation\n",
    "import hyperspy.api as hs\n",
    "\n",
    "from utils import *"
   ]
  },
  {
   "cell_type": "markdown",
   "id": "906fd531-81f5-476d-9c0d-4d81e0400476",
   "metadata": {},
   "source": [
    "# Creating Data"
   ]
  },
  {
   "cell_type": "code",
   "execution_count": null,
   "id": "cc6eb934-4098-4b0b-a854-6f3512901e1f",
   "metadata": {},
   "outputs": [],
   "source": [
    "hs.set_log_level(\"ERROR\")\n",
    "hs.preferences.General.show_progress_bar=False\n",
    "num_electrons =[0.001, 0.002,0.004,0.005,.01] \n",
    "for i in range(6):\n",
    "    sim = CrystalSTEMSimulation(Al_Structure, real_space_pixels=256, num_crystals=40)\n",
    "    with open(\"AllResults/num_electrons\"+str(i)+\".txt\",\"w+\") as f:\n",
    "        f.write(\"num_crystals, recall, false_positives, electrons_per_vector \\n\")\n",
    "        from skimage.draw import disk\n",
    "        mask = np.ones((64,64), dtype=bool)\n",
    "        rr,cc = disk((32,32), 10)\n",
    "        mask[rr,cc]=False\n",
    "        for s, n in zip(simulations,num_electrons):\n",
    "            arr = s.make_4d_nano(num_electrons=n)\n",
    "            ground_truth_vectors = s.vectors\n",
    "            print(np.sum(arr[:,:, mask])/(256 * 256), \"Average Electrons per Frame\")\n",
    "            signal = hs.signals.Signal2D(arr)\n",
    "            signal.set_signal_type(\"electron_diffraction\")\n",
    "            signal = signal.as_lazy()\n",
    "            signal.rechunk((32,32))\n",
    "\n",
    "            filtered = signal.filter(gaussian_filter, sigma=(1,1,0,0))\n",
    "            template = filtered.template_match_disk(disk_r=5, subtract_min=False,show_progressbar=False)\n",
    "            template.data[:,:,:, 0:5]=0\n",
    "            template.data[:,:,:,-5:]=0\n",
    "            template.data[:,:, 0:5, :]=0\n",
    "            template.data[:,:,-5:, :]=0\n",
    "            pks = template.find_peaks(threshold_abs=0.4, interactive=False,show_progressbar=False )\n",
    "            from pyxem.signals.diffraction_vectors import DiffractionVectors\n",
    "            vect = DiffractionVectors.from_peaks(pks, center= (32, 32),\n",
    "                                                     calibration=(1/32,1/32))\n",
    "            vect.compute()\n",
    "            filt = vect.filter_magnitude(.05,\n",
    "                                         .8,\n",
    "                                             show_progressbar=False )\n",
    "            ground_truth_vectors = ground_truth_vectors[(ground_truth_vectors[:,2]**2+ground_truth_vectors[:,3]**2)**0.5>0.05]\n",
    "            ground_truth_vectors = ground_truth_vectors[(ground_truth_vectors[:,2]**2+ground_truth_vectors[:,3]**2)**0.5<0.8]\n",
    "\n",
    "            from scipy.spatial import KDTree\n",
    "            flat = filt.flatten_diffraction_vectors()\n",
    "            ground_truth_vectors[:,2:4] = ground_truth_vectors[:,2:4]*32\n",
    "            flat.data[:,2:] = flat.data[:,2:]*32\n",
    "            gt_tree = KDTree(ground_truth_vectors[:,0:4])\n",
    "            flat_tree = KDTree(flat.data)\n",
    "\n",
    "            false_positives = [len(i) == 0 for i in gt_tree.query_ball_point(flat.data, r=9)]\n",
    "\n",
    "            is_bigger = [len(i)>1 for i in flat_tree.query_ball_point(ground_truth_vectors[:,:4], r=2)]\n",
    "            r = np.sum(is_bigger)/len(is_bigger)\n",
    "            fp = np.sum(false_positives)/ len(false_positives)\n",
    "            electrons_per_vector = np.mean(ground_truth_vectors[:,-1])*n*69\n",
    "            print(\"electrons_per_vector\", electrons_per_vector)\n",
    "            \n",
    "            print(\"Recall \", r) \n",
    "            print(\"False Positives\", fp)\n",
    "            f.write(str(n)+\", \" + str(r)+\", \"+ str(fp)+\", \"+ str(electrons_per_vector) +\"\\n\")"
   ]
  },
  {
   "cell_type": "markdown",
   "id": "52ada3b3-c5cc-4a3c-b6a7-f59731f18e43",
   "metadata": {},
   "source": [
    "## Plotting"
   ]
  },
  {
   "cell_type": "code",
   "execution_count": null,
   "id": "20bdddf4-a71f-44f5-98f9-6f2ec872d14e",
   "metadata": {},
   "outputs": [],
   "source": [
    "recall = [np.loadtxt(\"AllResults/num_electrons\"+str(i)+\".txt\", delimiter=\",\", skiprows=1) for i in range(6)]\n",
    "mean_recall = np.mean(recall, axis=0)\n",
    "std_recall = np.std(recall, axis=0)"
   ]
  },
  {
   "cell_type": "code",
   "execution_count": null,
   "id": "87ac5323-94cd-4172-8248-25a0a48f1118",
   "metadata": {},
   "outputs": [],
   "source": [
    "fig = plt.figure(figsize=(5,5))\n",
    "\n",
    "axs = fig.add_axes((.15,.15, 0.8,0.7))\n",
    "axs.errorbar(mean_recall[:,-1],\n",
    "             mean_recall[:,1]*100,\n",
    "             std_recall[:,1]*100, \n",
    "             capsize=2, color=\"black\",ls=\"none\",\n",
    "             marker=\"o\", markersize=5\n",
    "            )\n",
    "axs.set_xlabel(\"Average Electrons per Vector\")\n",
    "axs.set_ylabel(\"Recall Percentage\")\n",
    "axs.set_ylim(0,104)\n",
    "\n",
    "axs2 = fig.add_axes((.2,.2, 0.2,0.2))\n",
    "\n",
    "axs3 = fig.add_axes((.45,.2, 0.2,0.2))\n",
    "\n",
    "axs4 = fig.add_axes((.7,.2, 0.2,0.2))\n",
    "\n",
    "for ax in [axs2,axs3,axs4]:\n",
    "    ax.set_xticks([])\n",
    "    ax.set_yticks([])\n",
    "\n",
    "simulations[0].plot_example_dp(ax=axs2,threshold=0.6, num_electrons=0.001)\n",
    "simulations[4].plot_example_dp(ax=axs3,threshold=0.6, num_electrons=0.004)\n",
    "simulations[-1].plot_example_dp(ax=axs4, threshold=0.6, num_electrons=0.01)\n",
    "\n",
    "\n",
    "\n",
    "for a, i,c in zip([axs2, axs3, axs4], [0,2,-1], corners):\n",
    "    axs.annotate(\"\", xy=(mean_recall[:,-1][i],-0.5), xytext=(c, .16), xycoords=\"data\",\n",
    "                 textcoords=\"figure fraction\",\n",
    "                 arrowprops=dict(facecolor='black',arrowstyle=\"-\", lw=1.5),annotation_clip=False)\n",
    "    axs.annotate(\"\", xy=(mean_recall[:,-1][i],-0.5), xytext=(c+0.18, .16), xycoords=\"data\",\n",
    "                 textcoords=\"figure fraction\",\n",
    "                 arrowprops=dict(facecolor='black',arrowstyle=\"-\", lw=1.5),annotation_clip=False)\n",
    "fig.savefig(\"Figures/Figure3-RecallVsNoise.png\", bbox_inches=\"tight\" )\n",
    "plt.show()"
   ]
  }
 ],
 "metadata": {
  "kernelspec": {
   "display_name": "pyxem-dev",
   "language": "python",
   "name": "pyxem-dev"
  },
  "language_info": {
   "codemirror_mode": {
    "name": "ipython",
    "version": 3
   },
   "file_extension": ".py",
   "mimetype": "text/x-python",
   "name": "python",
   "nbconvert_exporter": "python",
   "pygments_lexer": "ipython3",
   "version": "3.11.6"
  }
 },
 "nbformat": 4,
 "nbformat_minor": 5
}
