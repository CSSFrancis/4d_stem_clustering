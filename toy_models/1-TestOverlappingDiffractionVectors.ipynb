{
 "cells": [
  {
   "cell_type": "markdown",
   "id": "8f763b6c-38e6-42aa-ab90-8885b7cdfb21",
   "metadata": {},
   "source": [
    "# 1 - Testing Difffraction Vector Overlaps\n",
    "\n",
    "This notebook creates a bulk of the simulated data for the Toy model section of the paper.\n",
    "\n",
    "Here we test overlaps in Diffraction Vectors with increasing overlaps\n",
    "\n",
    "Carter Francis | csfrancis@wisc.edu | 2024-01-15"
   ]
  },
  {
   "cell_type": "code",
   "execution_count": 1,
   "id": "0d3938d1",
   "metadata": {
    "tags": []
   },
   "outputs": [],
   "source": [
    "import numpy as np\n",
    "from scipy.ndimage import correlate1d, correlate, gaussian_filter, median_filter\n",
    "from skimage.feature.template import match_template\n",
    "from skimage.draw import disk\n",
    "import matplotlib.pyplot as plt\n",
    "\n",
    "from orix.crystal_map import Phase\n",
    "from orix.quaternion import Rotation\n",
    "import hyperspy.api as hs"
   ]
  },
  {
   "cell_type": "code",
   "execution_count": 2,
   "id": "0af1390a-9fe0-4b9c-913b-9e2f6645b08d",
   "metadata": {
    "tags": []
   },
   "outputs": [],
   "source": [
    "from scipy.spatial.transform import Rotation as R"
   ]
  },
  {
   "cell_type": "code",
   "execution_count": 3,
   "id": "09dde928-4033-43cb-ac78-ec65550fb8f4",
   "metadata": {
    "tags": []
   },
   "outputs": [
    {
     "name": "stderr",
     "output_type": "stream",
     "text": [
      "WARNING:silx.opencl.common:Unable to import pyOpenCl. Please install it from: https://pypi.org/project/pyopencl\n"
     ]
    }
   ],
   "source": [
    "from utils import *\n",
    "import matplotlib.pyplot as plt\n",
    "from skimage.feature import match_template\n",
    "from skimage.morphology import disk as d2\n",
    "from skimage.feature import peak_local_max\n",
    "from scipy.ndimage import correlate\n",
    "from skimage.util import view_as_windows"
   ]
  },
  {
   "cell_type": "code",
   "execution_count": 4,
   "id": "87922882-4c5e-47c8-9025-a8f38753a962",
   "metadata": {
    "tags": []
   },
   "outputs": [],
   "source": [
    "def _window_mode_2d(image, window_shape):\n",
    "    windows = view_as_windows(image,window_shape)\n",
    "    return windows"
   ]
  },
  {
   "cell_type": "markdown",
   "id": "c0df00db-8632-4e1d-beb2-5a83a1fc0a05",
   "metadata": {},
   "source": [
    "## 1.0 Diffraction Vectors with Increasing Ovverlaps\n",
    "\n",
    "This is just a simple test that I did to show how template matching will start to break down in cases where there are two disks that are two different intensities.  This is something that would be good for someone to continue looking into!  Honestly there are quite a few gains in recall which could come from a better method for finding peaks.  \n",
    "\n",
    "There is a realvent paper:\n",
    "\n",
    "> Pekin, T. C., Gammer, C., Ciston, J., Minor, A. M., & Ophus, C. (2017). Optimizing disk registration algorithms for nanobeam electron diffraction strain mapping. Ultramicroscopy, 176, 170–176. https://doi.org/10.1016/j.ultramic.2016.12.021\n",
    "\n",
    "which does a decent job of exploring this but they don't explore normalized cross correlations which we've found to be much better than other methods so this should really be revisited, especially with the advent of Neural Networks as well..."
   ]
  },
  {
   "cell_type": "code",
   "execution_count": 5,
   "id": "e72f1ded-c631-4b72-903e-c5f6f3b91731",
   "metadata": {
    "tags": []
   },
   "outputs": [
    {
     "data": {
      "text/plain": [
       "array([[20, 15]])"
      ]
     },
     "execution_count": 5,
     "metadata": {},
     "output_type": "execute_result"
    },
    {
     "data": {
      "image/png": "[encoded data removed]",
      "text/plain": [
       "<Figure size 640x480 with 3 Axes>"
      ]
     },
     "metadata": {},
     "output_type": "display_data"
    }
   ],
   "source": [
    "img = np.zeros((40,40))\n",
    "img = add_disk(img, center=(20,15), radius=10, intensity=4)\n",
    "img = add_disk(img, center=(20,25), radius=10, intensity=1)\n",
    "fig, axs = plt.subplots(1,3)\n",
    "axs[0].imshow(img)\n",
    "d = d2(10)\n",
    "temp = match_template(img,d,  pad_input=True)\n",
    "axs[1].imshow(temp, vmin=0.2)\n",
    "axs[2].imshow(correlate(img/np.mean(img),d/np.mean(d)))\n",
    "peak_local_max(temp,threshold_rel=0.2)"
   ]
  },
  {
   "cell_type": "markdown",
   "id": "80f3fc7a-1c58-48ba-9127-f074447aebe3",
   "metadata": {},
   "source": [
    "## Visually Inspecting the data\n",
    "\n",
    "You can try increasing the num_crystals to see how things break down."
   ]
  },
  {
   "cell_type": "code",
   "execution_count": 6,
   "id": "055fa28c-abd5-4359-8c21-36819687caa4",
   "metadata": {
    "tags": []
   },
   "outputs": [],
   "source": [
    "Al_Structure = Phase.from_cif(\"data/Al.cif\")"
   ]
  },
  {
   "cell_type": "code",
   "execution_count": 7,
   "id": "bf00f1a2-712f-4f53-97ef-16233e765be6",
   "metadata": {
    "tags": []
   },
   "outputs": [
    {
     "name": "stderr",
     "output_type": "stream",
     "text": [
      "/Users/carterfrancis/mambaforge/envs/pyxem-dev/lib/python3.11/site-packages/diffsims/generators/sphere_mesh_generators.py:523: RuntimeWarning: invalid value encountered in divide\n",
      "  phi2 = sign * np.nan_to_num(np.arccos(x_comp / norm_proj))\n"
     ]
    },
    {
     "name": "stdout",
     "output_type": "stream",
     "text": [
      "1559.337872465947 Average Electrons per Frame\n",
      "\u001b[33;20mWARNING | Hyperspy | The function you applied does not take into account the difference of units and of scales in-between axes. (hyperspy.signal:4998)\u001b[0m\n"
     ]
    },
    {
     "name": "stderr",
     "output_type": "stream",
     "text": [
      "WARNING:hyperspy.signal:The function you applied does not take into account the difference of units and of scales in-between axes.\n"
     ]
    },
    {
     "name": "stdout",
     "output_type": "stream",
     "text": [
      "[########################################] | 100% Completed | 60.45 ss\n"
     ]
    }
   ],
   "source": [
    "from dask_image.ndfilters import gaussian_filter\n",
    "\n",
    "s = CrystalSTEMSimulation(Al_Structure, real_space_pixels=256, num_crystals=40)\n",
    "arr = s.make_4d_nano(num_electrons=10)\n",
    "ground_truth_vectors = s.vectors\n",
    "from skimage.draw import disk\n",
    "mask = np.ones((64,64), dtype=bool)\n",
    "rr,cc = disk((32,32), 10)\n",
    "mask[rr,cc]=False\n",
    "print(np.sum(arr[:,:, mask])/(256 * 256), \"Average Electrons per Frame\")\n",
    "signal = hs.signals.Signal2D(arr)\n",
    "signal.set_signal_type(\"electron_diffraction\")\n",
    "signal = signal.as_lazy()\n",
    "\n",
    "signal.rechunk((32,32))\n",
    "filtered = signal.filter(gaussian_filter, \n",
    "             sigma=(1,1,0,0))\n",
    "template = filtered.template_match_disk(disk_r=5,\n",
    "                            subtract_min=False,\n",
    "                                show_progressbar=False)\n",
    "template.data[:,:,:, 0:5]=0\n",
    "template.data[:,:,:,-5:]=0\n",
    "template.data[:,:, 0:5, :]=0\n",
    "template.data[:,:,-5:, :]=0\n",
    "pks = template.find_peaks(threshold_abs=0.4, interactive=False,show_progressbar=False )\n",
    "from pyxem.signals.diffraction_vectors import DiffractionVectors\n",
    "vect = DiffractionVectors.from_peaks(pks, center= (32, 32),\n",
    "                                         calibration=(1/32,1/32))\n",
    "vect.compute()"
   ]
  },
  {
   "cell_type": "code",
   "execution_count": 8,
   "id": "f8ba7449-e4eb-47e5-bc84-6fadde8b0846",
   "metadata": {
    "tags": []
   },
   "outputs": [
    {
     "name": "stdout",
     "output_type": "stream",
     "text": [
      "\u001b[33;20mWARNING | Hyperspy | The function you applied does not take into account the difference of units and of scales in-between axes. (hyperspy.signal:4998)\u001b[0m\n"
     ]
    },
    {
     "name": "stderr",
     "output_type": "stream",
     "text": [
      "WARNING:hyperspy.signal:The function you applied does not take into account the difference of units and of scales in-between axes.\n"
     ]
    },
    {
     "name": "stdout",
     "output_type": "stream",
     "text": [
      "[########################################] | 100% Completed | 226.53 ms\n",
      "[########################################] | 100% Completed | 213.24 ms\n"
     ]
    },
    {
     "data": {
      "application/vnd.jupyter.widget-view+json": {
       "model_id": "03ffab679a184fb4a6b4d5da8327e49c",
       "version_major": 2,
       "version_minor": 0
      },
      "text/plain": [
       "HBox(children=(Canvas(toolbar=Toolbar(toolitems=[('Home', 'Reset original view', 'home', 'home'), ('Back', 'Ba…"
      ]
     },
     "metadata": {},
     "output_type": "display_data"
    }
   ],
   "source": [
    "%matplotlib ipympl\n",
    "signal.axes_manager.signal_axes[0].scale= 1/32\n",
    "signal.axes_manager.signal_axes[1].scale= 1/32\n",
    "signal.axes_manager.signal_axes[0].offset= -1\n",
    "signal.axes_manager.signal_axes[1].offset= -1\n",
    "\n",
    "m = vect.to_markers(sizes=(15,))\n",
    "\n",
    "\n",
    "ground_truth_vectors = s.vectors\n",
    "ground_truth_vectors = ground_truth_vectors[(ground_truth_vectors[:,2]**2+ground_truth_vectors[:,3]**2)**0.5>0.05]\n",
    "ground_truth_vectors = ground_truth_vectors[(ground_truth_vectors[:,2]**2+ground_truth_vectors[:,3]**2)**0.5<0.8]\n",
    "m2 = convert_flat_to_markers(ground_truth_vectors, signal)\n",
    "m2 = hs.plot.markers.Points(offsets=m2.T, color=\"r\")\n",
    "\n",
    "signal.plot(vmax=\"94th\")\n",
    "\n",
    "signal.add_marker(m)\n",
    "signal.add_marker(m2)"
   ]
  },
  {
   "cell_type": "markdown",
   "id": "452ec427-f32b-477c-9a47-c80544e46828",
   "metadata": {},
   "source": [
    "## Make the Diffraction Vector Recall Data"
   ]
  },
  {
   "cell_type": "code",
   "execution_count": null,
   "id": "9f1df715-1c00-4d56-b417-e0e64bb72bd4",
   "metadata": {
    "tags": []
   },
   "outputs": [
    {
     "name": "stderr",
     "output_type": "stream",
     "text": [
      "/Users/carterfrancis/mambaforge/envs/pyxem-dev/lib/python3.11/site-packages/diffsims/generators/sphere_mesh_generators.py:523: RuntimeWarning: invalid value encountered in divide\n",
      "  phi2 = sign * np.nan_to_num(np.arccos(x_comp / norm_proj))\n"
     ]
    },
    {
     "name": "stdout",
     "output_type": "stream",
     "text": [
      "1957.8807536216552 Average Electrons per Frame\n",
      "[########################################] | 100% Completed | 62.91 ss\n",
      "Recall  1.0\n",
      "False Positives 0.021130968547992828\n",
      "3498.5782846651086 Average Electrons per Frame\n",
      "[########################################] | 100% Completed | 71.20 ss\n",
      "Recall  0.9788328048675979\n",
      "False Positives 0.01679241810820758\n",
      "6276.000413019049 Average Electrons per Frame\n",
      "[########################################] | 100% Completed | 67.05 ss\n",
      "Recall  0.9820614553435759\n",
      "False Positives 0.00856714005311165\n",
      "9741.782272846758 Average Electrons per Frame\n",
      "[########################################] | 100% Completed | 84.94 ss\n",
      "Recall  0.9567203351334982\n",
      "False Positives 0.006089654870995469\n",
      "17635.939649064447 Average Electrons per Frame\n",
      "[########################################] | 100% Completed | 94.92 ss\n",
      "Recall  0.9519199170858718\n",
      "False Positives 0.0028806839301201833\n",
      "28013.020390538528 Average Electrons per Frame\n",
      "[########################################] | 100% Completed | 96.79 ss\n",
      "Recall  0.9323520117969244\n",
      "False Positives 0.003426478065917811\n",
      "53015.989236941496 Average Electrons per Frame\n",
      "[########################################] | 100% Completed | 107.71 s\n",
      "Recall  0.8756481901022001\n",
      "False Positives 0.003335134496813372\n"
     ]
    },
    {
     "name": "stderr",
     "output_type": "stream",
     "text": [
      "/Users/carterfrancis/mambaforge/envs/pyxem-dev/lib/python3.11/site-packages/diffsims/generators/sphere_mesh_generators.py:523: RuntimeWarning: invalid value encountered in divide\n",
      "  phi2 = sign * np.nan_to_num(np.arccos(x_comp / norm_proj))\n"
     ]
    },
    {
     "name": "stdout",
     "output_type": "stream",
     "text": [
      "2100.623332986172 Average Electrons per Frame\n",
      "[########################################] | 100% Completed | 67.31 ss\n",
      "Recall  0.9475126764423736\n",
      "False Positives 0.027108213055901532\n",
      "3814.276705356083 Average Electrons per Frame\n",
      "[########################################] | 100% Completed | 63.71 ss\n",
      "Recall  0.9947478991596639\n",
      "False Positives 0.01738670141292398\n",
      "5424.254852696251 Average Electrons per Frame\n",
      "[########################################] | 100% Completed | 65.36 ss\n",
      "Recall  0.9913142471644811\n",
      "False Positives 0.017889856383580233\n",
      "9874.005227514672 Average Electrons per Frame\n",
      "[########################################] | 100% Completed | 65.96 ss\n",
      "Recall  0.9578991596638655\n",
      "False Positives 0.007776198764111326\n",
      "21810.392772556857 Average Electrons per Frame\n",
      "[########################################] | 100% Completed | 88.85 ss\n",
      "Recall  0.9544891947421839\n",
      "False Positives 0.004010910907065197\n",
      "30840.16976369497 Average Electrons per Frame\n",
      "[########################################] | 100% Completed | 79.22 ss\n",
      "Recall  0.9287181140849612\n",
      "False Positives 0.00352323077443431\n",
      "56680.01851883219 Average Electrons per Frame\n",
      "[########################################] | 100% Completed | 86.87 ss\n",
      "Recall  0.8604643777447102\n",
      "False Positives 0.00547631682496363\n"
     ]
    },
    {
     "name": "stderr",
     "output_type": "stream",
     "text": [
      "/Users/carterfrancis/mambaforge/envs/pyxem-dev/lib/python3.11/site-packages/diffsims/generators/sphere_mesh_generators.py:523: RuntimeWarning: invalid value encountered in divide\n",
      "  phi2 = sign * np.nan_to_num(np.arccos(x_comp / norm_proj))\n"
     ]
    },
    {
     "name": "stdout",
     "output_type": "stream",
     "text": [
      "2438.6862866660945 Average Electrons per Frame\n",
      "[########################################] | 100% Completed | 53.96 ss\n",
      "Recall  1.0\n",
      "False Positives 0.03719696502374931\n",
      "4717.424640781853 Average Electrons per Frame\n",
      "[########################################] | 100% Completed | 58.33 ss\n",
      "Recall  0.9864242424242424\n",
      "False Positives 0.011282315775900973\n",
      "5070.095689156413 Average Electrons per Frame\n",
      "[########################################] | 100% Completed | 61.43 ss\n",
      "Recall  0.9804171637799811\n",
      "False Positives 0.016390065239784823\n",
      "11683.995061561254 Average Electrons per Frame\n",
      "[########################################] | 100% Completed | 73.65 ss\n",
      "Recall  0.9754246562306704\n",
      "False Positives 0.0059668597384795255\n",
      "17295.11223368235 Average Electrons per Frame\n",
      "[########################################] | 100% Completed | 72.12 ss\n",
      "Recall  0.9641856964851895\n",
      "False Positives 0.00706334824895529\n",
      "31318.013688083876 Average Electrons per Frame\n",
      "[########################################] | 100% Completed | 87.44 ss\n",
      "Recall  0.9231804690439362\n",
      "False Positives 0.0058147622624711345\n",
      "57051.81729439495 Average Electrons per Frame\n",
      "[########################################] | 100% Completed | 100.54 s\n",
      "Recall  0.8523231204468085\n",
      "False Positives 0.002435932841898045\n"
     ]
    },
    {
     "name": "stderr",
     "output_type": "stream",
     "text": [
      "/Users/carterfrancis/mambaforge/envs/pyxem-dev/lib/python3.11/site-packages/diffsims/generators/sphere_mesh_generators.py:523: RuntimeWarning: invalid value encountered in divide\n",
      "  phi2 = sign * np.nan_to_num(np.arccos(x_comp / norm_proj))\n"
     ]
    },
    {
     "name": "stdout",
     "output_type": "stream",
     "text": [
      "2381.4240466919073 Average Electrons per Frame\n",
      "[########################################] | 100% Completed | 71.88 ss\n",
      "Recall  0.9960556844547563\n",
      "False Positives 0.02359720958447073\n",
      "3123.10304133943 Average Electrons per Frame\n",
      "[#################                       ] | 43% Completed | 23.08 sms"
     ]
    }
   ],
   "source": [
    "import hyperspy.api as hs\n",
    "from dask_image.ndfilters import gaussian_filter\n",
    "hs.set_log_level(\"ERROR\")\n",
    "hs.preferences.General.show_progress_bar=False\n",
    "for i in range(6):\n",
    "    num_crystals = [40, 80, 120, 200, 400, 600, 1200]\n",
    "    simulations = [CrystalSTEMSimulation(Al_Structure, real_space_pixels=256, num_crystals=i) for i in num_crystals]\n",
    "    with open(\"AllResults/recall\"+str(i)+\".txt\",\"w+\") as f:\n",
    "        f.write(\"num_crystals, recall, false_positives \\n\")\n",
    "        from skimage.draw import disk\n",
    "        mask = np.ones((64,64), dtype=bool)\n",
    "        rr,cc = disk((32,32), 10)\n",
    "        mask[rr,cc]=False\n",
    "        for s, num_crystal in zip(simulations,num_crystals):\n",
    "            arr = s.make_4d_nano(num_electrons=10)\n",
    "            ground_truth_vectors = s.vectors\n",
    "            print(np.sum(arr[:,:, mask])/(256 * 256), \"Average Electrons per Frame\")\n",
    "            signal = hs.signals.Signal2D(arr)\n",
    "            signal.set_signal_type(\"electron_diffraction\")\n",
    "            signal = signal.as_lazy()\n",
    "            signal.rechunk((32,32))\n",
    "            filtered = signal.filter(gaussian_filter, \n",
    "                         sigma=(1,1,0,0))\n",
    "            template = filtered.template_match_disk(disk_r=5,\n",
    "                                        subtract_min=False,\n",
    "                                            show_progressbar=False)\n",
    "            template.data[:,:,:, 0:5]=0\n",
    "            template.data[:,:,:,-5:]=0\n",
    "            template.data[:,:, 0:5, :]=0\n",
    "            template.data[:,:,-5:, :]=0\n",
    "            pks = template.find_peaks(threshold_abs=0.4, interactive=False,show_progressbar=False )\n",
    "            from pyxem.signals.diffraction_vectors import DiffractionVectors\n",
    "            vect = DiffractionVectors.from_peaks(pks, center= (32, 32),\n",
    "                                                     calibration=(1/32,1/32))\n",
    "            vect.compute()\n",
    "            filt = vect.filter_magnitude(.05,\n",
    "                                         .8,\n",
    "                                             show_progressbar=False )\n",
    "            ground_truth_vectors = ground_truth_vectors[(ground_truth_vectors[:,2]**2+ground_truth_vectors[:,3]**2)**0.5>0.05]\n",
    "            ground_truth_vectors = ground_truth_vectors[(ground_truth_vectors[:,2]**2+ground_truth_vectors[:,3]**2)**0.5<0.8]\n",
    "\n",
    "            from scipy.spatial import KDTree\n",
    "            flat = filt.flatten_diffraction_vectors()\n",
    "            flat.data =  flat.data[np.logical_not(np.any(np.isnan(flat.data), axis=1))]\n",
    "            ground_truth_vectors[:,2:4] = ground_truth_vectors[:,2:4]*32\n",
    "            flat.data[:,2:] = flat.data[:,2:]*32\n",
    "            gt_tree = KDTree(ground_truth_vectors[:,0:4])\n",
    "            flat_tree = KDTree(flat.data)\n",
    "\n",
    "            false_positives = [len(i) == 0 for i in gt_tree.query_ball_point(flat.data, r=9)]\n",
    "            # is there a vector within 2 pixels?\n",
    "            is_bigger = [len(i)>1 for i in flat_tree.query_ball_point(ground_truth_vectors[:,:4], r=2)]\n",
    "            r = np.sum(is_bigger)/len(is_bigger)\n",
    "            fp = np.sum(false_positives)/ len(false_positives)\n",
    "            print(\"Recall \", r) \n",
    "            print(\"False Positives\", fp)\n",
    "            f.write(str(num_crystal)+\", \" + str(r)+\", \"+ str(fp)+\"\\n\")"
   ]
  },
  {
   "cell_type": "markdown",
   "id": "34c0e512-7d02-430a-8a1e-21c4b1e674ac",
   "metadata": {},
   "source": [
    "## Plotting Results"
   ]
  },
  {
   "cell_type": "code",
   "execution_count": null,
   "id": "5142fdcf-0792-4a3c-8221-5a29b9d9ff5c",
   "metadata": {},
   "outputs": [],
   "source": [
    "recall = [np.loadtxt(\"AllResults/recall\"+str(i)+\".txt\", delimiter=\",\", skiprows=1) for i in range(6)]\n",
    "mean_recall = np.mean(recall, axis=0)\n",
    "std_recall = np.std(recall, axis=0)"
   ]
  },
  {
   "cell_type": "code",
   "execution_count": null,
   "id": "f4a696a5-e36b-4b49-8e5f-b34ecc99c3bf",
   "metadata": {},
   "outputs": [],
   "source": [
    "num_crystals = [40, 80, 120, 200, 400, 600, 1200]\n",
    "simulations = [CrystalSTEMSimulation(Al_Structure, real_space_pixels=256, num_crystals=i) for i in num_crystals]"
   ]
  },
  {
   "cell_type": "code",
   "execution_count": null,
   "id": "9774f53d-c93a-47fa-a5d4-b000b34bf26c",
   "metadata": {},
   "outputs": [],
   "source": [
    "fig = plt.figure(figsize=(5,5))\n",
    "\n",
    "axs = fig.add_axes((.15,.15, 0.8,0.7))\n",
    "axs.errorbar(mean_recall[:,0],\n",
    "             mean_recall[:,1]*100,\n",
    "             std_recall[:,1]*100,\n",
    "             capsize=2, color=\"black\",ls=\"none\",\n",
    "             marker=\"o\", markersize=5\n",
    "            )\n",
    "axs.set_xlabel(\"Number of Crystals\")\n",
    "axs.set_ylabel(\"Recall Percentage\")\n",
    "top = axs.twiny()\n",
    "\n",
    "top.set_xlim((400*40)/(256*256), (400*1200)/(256*256))\n",
    "top.set_xlabel(\"Average Number of Crystals in Projection\")\n",
    "axs.set_ylim(60,104)\n",
    "corners = [.2,.45,.7]\n",
    "\n",
    "axs2 = fig.add_axes((.2,.2, 0.2,0.2))\n",
    "\n",
    "axs3 = fig.add_axes((.45,.2, 0.2,0.2))\n",
    "\n",
    "axs4 = fig.add_axes((.7,.2, 0.2,0.2))\n",
    "\n",
    "for ax in [axs2,axs3,axs4]:\n",
    "    ax.set_xticks([])\n",
    "    ax.set_yticks([])\n",
    "    \n",
    "for a, i,c in zip([axs2, axs3, axs4], [0,4,6], corners):\n",
    "    simulations[i].plot_real_space(ax=a, alpha=0.3)\n",
    "\n",
    "    axs.annotate(\"\", xy=(num_crystals[i],59.8), xytext=(c, .16), xycoords=\"data\",\n",
    "                 textcoords=\"figure fraction\",\n",
    "                 arrowprops=dict(facecolor='black',arrowstyle=\"-\", lw=1.5),annotation_clip=False)\n",
    "    axs.annotate(\"\", xy=(num_crystals[i],59.8), xytext=(c+0.18, .16), xycoords=\"data\",\n",
    "                 textcoords=\"figure fraction\",\n",
    "                 arrowprops=dict(facecolor='black',arrowstyle=\"-\", lw=1.5),annotation_clip=False)\n",
    "\n",
    "fig.savefig(\"Figures/Figure4-RecallPercentageVsOverlap.png\",bbox_inches=\"tight\" )\n",
    "plt.show()"
   ]
  },
  {
   "cell_type": "code",
   "execution_count": null,
   "id": "05307bbd-d01f-4f6e-b4d2-dc4ad54260ff",
   "metadata": {},
   "outputs": [],
   "source": []
  }
 ],
 "metadata": {
  "kernelspec": {
   "display_name": "pyxem-dev",
   "language": "python",
   "name": "pyxem-dev"
  },
  "language_info": {
   "codemirror_mode": {
    "name": "ipython",
    "version": 3
   },
   "file_extension": ".py",
   "mimetype": "text/x-python",
   "name": "python",
   "nbconvert_exporter": "python",
   "pygments_lexer": "ipython3",
   "version": "3.11.6"
  }
 },
 "nbformat": 4,
 "nbformat_minor": 5
}
